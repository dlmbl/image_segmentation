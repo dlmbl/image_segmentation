{
 "cells": [
  {
   "cell_type": "markdown",
   "metadata": {
    "colab_type": "text",
    "id": "cxJNtcLHyxK7"
   },
   "source": [
    "# Exercise 05 Image Segmentation\n",
    "\n",
    "In this notebook, we will train a 2D U-net for nuclei segmentation in the Kaggle Nuclei dataset.\n",
    "\n",
    "Written by Valentyna Zinchenko, Constantin Pape and William Patton."
   ]
  },
  {
   "cell_type": "markdown",
   "metadata": {
    "colab_type": "text",
    "id": "d5CNxOpgx-ey"
   },
   "source": [
    "## 1) The libraries"
   ]
  },
  {
   "cell_type": "code",
   "execution_count": null,
   "metadata": {
    "colab": {},
    "colab_type": "code",
    "id": "IK0BTeevRv_N"
   },
   "outputs": [],
   "source": [
    "%matplotlib inline\n",
    "%load_ext tensorboard\n",
    "import os\n",
    "from pathlib import Path\n",
    "import imageio\n",
    "import matplotlib.pyplot as plt\n",
    "import numpy as np\n",
    "from PIL import Image\n",
    "from scipy.ndimage import binary_erosion\n",
    "import torch\n",
    "from torch.utils.data import Dataset, DataLoader\n",
    "from torch.utils.tensorboard import SummaryWriter\n",
    "import torch.nn as nn\n",
    "from torch.nn import functional as F\n",
    "from torchvision import transforms"
   ]
  },
  {
   "cell_type": "markdown",
   "metadata": {
    "colab_type": "text",
    "id": "rFTBWHvqLYwL"
   },
   "source": [
    "## 2) Data loading and preprocessing"
   ]
  },
  {
   "cell_type": "markdown",
   "metadata": {},
   "source": [
    "### Data download and exploration\n",
    "For this exercise we will be using the Kaggle 2018 Data Science Bowl data. We will try to segment it with the state of the art network.\n",
    "Let's start with loading the data."
   ]
  },
  {
   "cell_type": "code",
   "execution_count": null,
   "metadata": {
    "colab": {},
    "colab_type": "code",
    "id": "k82ftNngK8Qf"
   },
   "outputs": [],
   "source": [
    "!wget --load-cookies /tmp/cookies.txt \"https://docs.google.com/uc?export=download&confirm=$(wget --quiet --save-cookies /tmp/cookies.txt --keep-session-cookies --no-check-certificate 'https://docs.google.com/uc?export=download&id=1L344AoTTx-mu9MyNt-2iZ5A3ww3tC_Zp' -O- | sed -rn 's/.*confirm=([0-9A-Za-z_]+).*/\\1\\n/p')&id=1L344AoTTx-mu9MyNt-2iZ5A3ww3tC_Zp\" -O kaggle_data.zip && rm -rf /tmp/cookies.txt\n",
    "!unzip -u -qq kaggle_data.zip && rm kaggle_data.zip"
   ]
  },
  {
   "cell_type": "markdown",
   "metadata": {
    "colab_type": "text",
    "id": "89JYxq-bL-Q3"
   },
   "source": [
    "Now make sure that the data was successfully extracted: if everything went fine, you should have folders `nuclei_train_data` and `nuclei_val_data` in your working directory. Check if it is the case:"
   ]
  },
  {
   "cell_type": "code",
   "execution_count": null,
   "metadata": {
    "colab": {},
    "colab_type": "code",
    "id": "Dk-fAyl7L-Zj"
   },
   "outputs": [],
   "source": [
    "!ls -ltrh"
   ]
  },
  {
   "cell_type": "markdown",
   "metadata": {
    "colab_type": "text",
    "id": "tuRXDRJsMxVo"
   },
   "source": [
    "__Task 2.1__: Use `ls` to explore the contents of both folders. Running `ls your_folder_name` should display you what is stored in the folder of your interest.\n",
    "\n",
    " How are the images stored? What format do they have?"
   ]
  },
  {
   "cell_type": "code",
   "execution_count": null,
   "metadata": {},
   "outputs": [],
   "source": [
    "!ls -l nuclei_train_data/4d4f254f3b8b4408d661df3735591554b2f6587ce1952928d619b48010d55467\n",
    "!ls nuclei_train_data | wc -l"
   ]
  },
  {
   "cell_type": "markdown",
   "metadata": {},
   "source": [
    "__Task 2.2__: Visualize some of the files.\n",
    "\n",
    "Hint: you can use the following function to display an image:"
   ]
  },
  {
   "cell_type": "code",
   "execution_count": null,
   "metadata": {
    "colab": {},
    "colab_type": "code",
    "id": "ehovgGj1NQrG"
   },
   "outputs": [],
   "source": [
    "def show_one_image(image_path):\n",
    "    image = imageio.imread(image_path)\n",
    "    plt.imshow(image)"
   ]
  },
  {
   "cell_type": "code",
   "execution_count": null,
   "metadata": {},
   "outputs": [],
   "source": [
    "show_one_image(\n",
    "    Path(\n",
    "        \"nuclei_train_data/003cee89357d9fe13516167fd67b609a164651b21934585648c740d2c3d86dc1/mask.tif\"\n",
    "    )\n",
    ")\n",
    "show_one_image(\n",
    "    Path(\n",
    "        \"nuclei_train_data/003cee89357d9fe13516167fd67b609a164651b21934585648c740d2c3d86dc1/image.tif\"\n",
    "    )\n",
    ")\n"
   ]
  },
  {
   "cell_type": "markdown",
   "metadata": {},
   "source": [
    "### Data processing\n",
    "Making the data accessible for training. What one would normally start with in any machine learning pipeline is writing a dataset - a class that will fetch the training samples. Once you switch to using your own data, you would have to figure out how to fetch the data yourself. Luckily most of the functionality is already provided by PyTorch, but what you need to do is to write a class, that will actually supply the dataloader with training samples - a Dataset.\n",
    "\n",
    "Torch Dataset docs can be found [here](https://pytorch.org/docs/stable/data.html?highlight=dataset#torch.utils.data.Dataset) and a totorial on how to use them can be found [here](https://pytorch.org/tutorials/beginner/data_loading_tutorial.html#dataset-class).\n",
    "\n",
    "The main idea: any Dataset class should implement two \"magic\" methods:\n",
    "1) `__len__(self)`: this defines the behavior of the python builtin `len` function. i.e:\n",
    "    - `len(dataset)` => number of elements in your dataset\n",
    "2) `__getitem__(self, idx)`: this defines bracket indexing behavior of your class. i.e:\n",
    "    - `dataset[idx]` => element of your dataset associated with `idx`\n",
    "\n",
    "For this exercise you will not have to do it yourself yet, but please carefully read through the provided class:"
   ]
  },
  {
   "cell_type": "code",
   "execution_count": null,
   "metadata": {
    "colab": {},
    "colab_type": "code",
    "id": "L6Zf2tpXh8Tk"
   },
   "outputs": [],
   "source": [
    "# any PyTorch dataset class should inherit the initial torch.utils.data.Dataset\n",
    "class NucleiDataset(Dataset):\n",
    "    \"\"\"A PyTorch dataset to load cell images and nuclei masks\"\"\"\n",
    "\n",
    "    def __init__(self, root_dir, transform=None, img_transform=None):\n",
    "        self.root_dir = root_dir  # the directory with all the training samples\n",
    "        self.samples = os.listdir(root_dir)  # list the samples\n",
    "        self.transform = (\n",
    "            transform  # transformations to apply to both inputs and targets\n",
    "        )\n",
    "        self.img_transform = img_transform  # transformations to apply to raw image only\n",
    "        #  transformations to apply just to inputs\n",
    "        self.inp_transforms = transforms.Compose(\n",
    "            [\n",
    "                transforms.Grayscale(),  # some of the images are RGB\n",
    "                transforms.ToTensor(),\n",
    "                transforms.Normalize([0.5], [0.5]),\n",
    "            ]\n",
    "        )\n",
    "        # transformations to apply just to targets\n",
    "        self.mask_transforms = transforms.ToTensor()\n",
    "\n",
    "    # get the total number of samples\n",
    "    def __len__(self):\n",
    "        return len(self.samples)\n",
    "\n",
    "    # fetch the training sample given its index\n",
    "    def __getitem__(self, idx):\n",
    "        img_path = os.path.join(self.root_dir, self.samples[idx], \"image.tif\")\n",
    "        # we'll be using Pillow library for reading files\n",
    "        # since many torchvision transforms operate on PIL images\n",
    "        image = Image.open(img_path)\n",
    "        image = self.inp_transforms(image)\n",
    "        mask_path = os.path.join(self.root_dir, self.samples[idx], \"mask.tif\")\n",
    "        mask = Image.open(mask_path)\n",
    "        mask = self.mask_transforms(mask)\n",
    "        if self.transform is not None:\n",
    "            image, mask = self.transform([image, mask])\n",
    "        if self.img_transform is not None:\n",
    "            image = self.img_transform([image])\n",
    "        return image, mask\n"
   ]
  },
  {
   "cell_type": "markdown",
   "metadata": {
    "colab_type": "text",
    "id": "wp6nJdOgvZBl"
   },
   "source": [
    "__Task 2.3__: Use the defined dataset to show a random image/mask pair\n",
    "\n",
    "Hint: use the `len` function and `[]` indexing defined by `__len__` and `__get_index__` in the Dataset class to fill in the function below "
   ]
  },
  {
   "cell_type": "code",
   "execution_count": null,
   "metadata": {
    "colab": {},
    "colab_type": "code",
    "id": "fq0GitfQvnJF"
   },
   "outputs": [],
   "source": [
    "def show_random_dataset_image(dataset):\n",
    "    idx = np.random.randint(0, len(dataset))  # take a random sample\n",
    "    img, mask = dataset[idx]  # get the image and the nuclei masks\n",
    "    f, axarr = plt.subplots(1, 2)  # make two plots on one figure\n",
    "    axarr[0].imshow(img[0])  # show the image\n",
    "    axarr[1].imshow(mask[0])  # show the masks\n",
    "    _ = [ax.axis(\"off\") for ax in axarr]  # remove the axes\n",
    "    print(\"Image size is %s\" % {img[0].shape})\n",
    "    plt.show()\n"
   ]
  },
  {
   "cell_type": "code",
   "execution_count": null,
   "metadata": {
    "colab": {},
    "colab_type": "code",
    "id": "SYcY1Tg9vpLJ"
   },
   "outputs": [],
   "source": [
    "TRAIN_DATA_PATH = \"nuclei_train_data\"\n",
    "train_data = NucleiDataset(TRAIN_DATA_PATH)\n",
    "\n",
    "show_random_dataset_image(train_data)"
   ]
  },
  {
   "cell_type": "markdown",
   "metadata": {
    "colab_type": "text",
    "id": "JMHvV2rtvqyX"
   },
   "source": [
    "\n",
    "\n",
    "As you can probably see, if you clicked enough times, some of the images are really huge! What happens if we load them into memory and run the model on them? We might run out of memory. That's why normally, when training networks on images or volumes one has to be really careful about the sizes. In practice, you would want to regulate their size. Additional reason for restraining the size is: if we want to train in batches (faster and more stable training), we need all the images in the batch to be of the same size. That is why we prefer to either resize or crop them.\n",
    "\n",
    "Here is a function (well, actually a class), that will apply a transformation 'random crop'. Notice that we apply it to images and masks simultaneously to make sure they correspond, despite the randomness.\n",
    "\n",
    "In case anybody is wondering why we have to bother to write a whole class for it instead of simply coping the images directly in the dataset: we want to keep the code modular. We want to write one dataset object, and then we can try all the possible transforms with this one dataset. Similarly, we want to write one Randomcrop transform object, and then we can reuse it for any other image datasets we night have in the future.\n"
   ]
  },
  {
   "cell_type": "code",
   "execution_count": null,
   "metadata": {
    "colab": {},
    "colab_type": "code",
    "id": "3X8AbTxGvyc1"
   },
   "outputs": [],
   "source": [
    "class RandomCrop(object):\n",
    "    \"\"\"Crop randomly the input image and the output mask\"\"\"\n",
    "\n",
    "    def __init__(self, crop_size):\n",
    "        # check if the crop size is of a valid type\n",
    "        assert isinstance(crop_size, (int, tuple, list))\n",
    "        if isinstance(crop_size, int):\n",
    "            # if the crop size is an integer, we use the same for both dimensions\n",
    "            self.output_size = (crop_size, crop_size)\n",
    "        else:\n",
    "            assert len(crop_size) == 2\n",
    "            self.crop_size = crop_size\n",
    "\n",
    "    # this function makes our class callable\n",
    "    def __call__(self, sample):\n",
    "        # we need to crop both input and mask at the same time\n",
    "        assert len(sample) == 2\n",
    "        image, mask = sample\n",
    "        # the first dimension is channels, then width, then height\n",
    "        w, h = image.shape[1:]\n",
    "        new_w, new_h = self.output_size\n",
    "        # choose a random place to crop\n",
    "        top = np.random.randint(0, h - new_h) if h - new_h > 0 else 0\n",
    "        left = np.random.randint(0, w - new_w) if w - new_w > 0 else 0\n",
    "        # crop and return\n",
    "        image = image[:, left : left + new_w, top : top + new_h]\n",
    "        mask = mask[:, left : left + new_w, top : top + new_h]\n",
    "        return image, mask\n"
   ]
  },
  {
   "cell_type": "markdown",
   "metadata": {
    "colab_type": "text",
    "id": "vLA-L6sZw5TZ"
   },
   "source": [
    "PS: PyTorch already has quite a bunch of all possible data transforms, so if you need one, check [here](https://pytorch.org/docs/stable/torchvision/transforms.html). The biggest problem with them is that they are clearly separated into transforms applied to PIL images (remember, we initially load the images as PIL.Image?) and torch.tensors (remember, we converted the images into tensors by calling transforms.ToTensor()?). This can be incredibly annoying if for some reason you might need to transorm your images to tensors before applying any other transforms or you don't want to use PIL library at all."
   ]
  },
  {
   "cell_type": "code",
   "execution_count": null,
   "metadata": {
    "colab": {},
    "colab_type": "code",
    "id": "UQ5hBaPNxJG1"
   },
   "outputs": [],
   "source": [
    "train_data = NucleiDataset(TRAIN_DATA_PATH, RandomCrop(256))\n",
    "train_loader = DataLoader(train_data, batch_size=5, shuffle=True)\n"
   ]
  },
  {
   "cell_type": "code",
   "execution_count": null,
   "metadata": {
    "colab": {},
    "colab_type": "code",
    "id": "FX2SMLSCxNDy"
   },
   "outputs": [],
   "source": [
    "show_random_dataset_image(train_data)\n"
   ]
  },
  {
   "cell_type": "markdown",
   "metadata": {
    "colab_type": "text",
    "id": "sVH6172mxP0c"
   },
   "source": [
    "And the same for the validation data:"
   ]
  },
  {
   "cell_type": "code",
   "execution_count": null,
   "metadata": {
    "colab": {},
    "colab_type": "code",
    "id": "Qsrwcz9axSLG"
   },
   "outputs": [],
   "source": [
    "VAL_DATA_PATH = \"nuclei_val_data\"\n",
    "val_data = NucleiDataset(VAL_DATA_PATH, RandomCrop(256))\n",
    "val_loader = DataLoader(val_data, batch_size=5)\n"
   ]
  },
  {
   "cell_type": "code",
   "execution_count": null,
   "metadata": {
    "colab": {},
    "colab_type": "code",
    "id": "xxltUmVLxazR"
   },
   "outputs": [],
   "source": [
    "show_random_dataset_image(val_data)\n"
   ]
  },
  {
   "cell_type": "markdown",
   "metadata": {},
   "source": [
    "## Checkpoint 1\n",
    "\n",
    "We will go over the steps up to this point soon. If you have time to spare, consider experimenting with various augmentations. Your goal is to augment your training data in such a way that you expand the distribution of training data to cover the distribution of the rest of your data and avoid overly relying on extrapolation at test time. If this sounds somewhat vague thats because augmenting is a bit of an artform. Common augmentations that have been shown to work well are adding noise, mirror, transpose, and rotations."
   ]
  },
  {
   "cell_type": "markdown",
   "metadata": {
    "colab_type": "text",
    "id": "0pfxGQq2yhkD"
   },
   "source": [
    "## 3) The model: U-net\n",
    "\n",
    "Now we need to define the architecture of the model to use. We will use a [U-Net](https://lmb.informatik.uni-freiburg.de/people/ronneber/u-net/) that has proven to steadily outperform the other architectures in segmenting biological and medical images.\n",
    "\n",
    "The image of the model precisely describes all the building blocks you need to use to create it. All of them can be found in the list of PyTorch layers (modules) [here](https://pytorch.org/docs/stable/nn.html#convolution-layers).\n",
    "\n",
    "The U-net has an encoder-decoder structure:\n",
    "\n",
    "In the encoder pass, the input image is successively downsampled via max-pooling. In the decoder pass it is upsampled again via transposed convolutions.\n",
    "\n",
    "In adddition, it has skip connections, that bridge the output from an encoder to the corresponding decoder."
   ]
  },
  {
   "cell_type": "code",
   "execution_count": null,
   "metadata": {
    "colab": {},
    "colab_type": "code",
    "id": "lf7Y_PmU7sQ3"
   },
   "outputs": [],
   "source": [
    "class UNet(nn.Module):\n",
    "    \"\"\"UNet implementation\n",
    "    Arguments:\n",
    "      in_channels: number of input channels\n",
    "      out_channels: number of output channels\n",
    "      final_activation: activation applied to the network output\n",
    "    \"\"\"\n",
    "\n",
    "    # _conv_block and _upsampler are just helper functions to\n",
    "    # construct the model.\n",
    "    # encapsulating them like so also makes it easy to re-use\n",
    "    # the model implementation with different architecture elements\n",
    "\n",
    "    # Convolutional block for single layer of the decoder / encoder\n",
    "    # we apply to 2d convolutions with relu activation\n",
    "    def _conv_block(self, in_channels, out_channels):\n",
    "        return nn.Sequential(\n",
    "            nn.Conv2d(in_channels, out_channels, kernel_size=3, padding=1),\n",
    "            nn.ReLU(),\n",
    "            nn.Conv2d(out_channels, out_channels, kernel_size=3, padding=1),\n",
    "            nn.ReLU(),\n",
    "        )\n",
    "\n",
    "    # upsampling via transposed 2d convolutions\n",
    "    def _upsampler(self, in_channels, out_channels):\n",
    "        return nn.ConvTranspose2d(in_channels, out_channels, kernel_size=2, stride=2)\n",
    "\n",
    "    def __init__(self, in_channels=1, out_channels=1, depth=4, final_activation=None):\n",
    "        super().__init__()\n",
    "\n",
    "        assert depth < 7, \"Max supported depth is 7\"\n",
    "\n",
    "        # the depth (= number of encoder / decoder levels) is\n",
    "        # hard-coded to 4\n",
    "        self.depth = depth\n",
    "\n",
    "        # the final activation must either be None or a Module\n",
    "        if final_activation is not None:\n",
    "            assert isinstance(\n",
    "                final_activation, nn.Module\n",
    "            ), \"Activation must be torch module\"\n",
    "\n",
    "        # all lists of conv layers (or other nn.Modules with parameters) must be wraped\n",
    "        # itnto a nn.ModuleList\n",
    "\n",
    "        # modules of the encoder path\n",
    "        self.encoder = nn.ModuleList(\n",
    "            [\n",
    "                self._conv_block(in_channels, 16),\n",
    "                self._conv_block(16, 32),\n",
    "                self._conv_block(32, 64),\n",
    "                self._conv_block(64, 128),\n",
    "                self._conv_block(128, 256),\n",
    "                self._conv_block(256, 512),\n",
    "                self._conv_block(512, 1024),\n",
    "            ][:depth]\n",
    "        )\n",
    "        # the base convolution block\n",
    "        if depth >= 1:\n",
    "            self.base = self._conv_block(2 ** (depth + 3), 2 ** (depth + 4))\n",
    "        else:\n",
    "            self.base = self._conv_block(1, 2 ** (depth + 4))\n",
    "        # modules of the decoder path\n",
    "        self.decoder = nn.ModuleList(\n",
    "            [\n",
    "                self._conv_block(2048, 1024),\n",
    "                self._conv_block(1024, 512),\n",
    "                self._conv_block(512, 256),\n",
    "                self._conv_block(256, 128),\n",
    "                self._conv_block(128, 64),\n",
    "                self._conv_block(64, 32),\n",
    "                self._conv_block(32, 16),\n",
    "            ][-depth:]\n",
    "        )\n",
    "\n",
    "        # the pooling layers; we use 2x2 MaxPooling\n",
    "        self.poolers = nn.ModuleList([nn.MaxPool2d(2) for _ in range(self.depth)])\n",
    "        # the upsampling layers\n",
    "        self.upsamplers = nn.ModuleList(\n",
    "            [\n",
    "                self._upsampler(2048, 1024),\n",
    "                self._upsampler(1024, 512),\n",
    "                self._upsampler(512, 256),\n",
    "                self._upsampler(256, 128),\n",
    "                self._upsampler(128, 64),\n",
    "                self._upsampler(64, 32),\n",
    "                self._upsampler(32, 16),\n",
    "            ][-depth:]\n",
    "        )\n",
    "        # output conv and activation\n",
    "        # the output conv is not followed by a non-linearity, because we apply\n",
    "        # activation afterwards\n",
    "        self.out_conv = nn.Conv2d(16, out_channels, 1)\n",
    "        self.activation = final_activation\n",
    "\n",
    "    def forward(self, input):\n",
    "        x = input\n",
    "        # apply encoder path\n",
    "        encoder_out = []\n",
    "        for level in range(self.depth):\n",
    "            x = self.encoder[level](x)\n",
    "            encoder_out.append(x)\n",
    "            x = self.poolers[level](x)\n",
    "\n",
    "        # apply base\n",
    "        x = self.base(x)\n",
    "\n",
    "        # apply decoder path\n",
    "        encoder_out = encoder_out[::-1]\n",
    "        for level in range(self.depth):\n",
    "            x = self.upsamplers[level](x)\n",
    "            x = self.decoder[level](torch.cat((x, encoder_out[level]), dim=1))\n",
    "\n",
    "        # apply output conv and activation (if given)\n",
    "        x = self.out_conv(x)\n",
    "        if self.activation is not None:\n",
    "            x = self.activation(x)\n",
    "        return x\n"
   ]
  },
  {
   "cell_type": "markdown",
   "metadata": {},
   "source": [
    "__Task 3.1__: Spot the best UNet\n",
    "\n",
    "In the next cell you fill find a series of UNet definitions. Most of them won't work. Some of them will work but not well. One will do well. Can you identify which model is the winner? Unfortunately you can't yet test your hypotheses yet since we have not covered loss functions, optimizers, and train/validation loops."
   ]
  },
  {
   "cell_type": "code",
   "execution_count": null,
   "metadata": {},
   "outputs": [],
   "source": [
    "unetA = UNet(\n",
    "    in_channels=1, out_channels=1, depth=4, final_activation=torch.nn.Sigmoid()\n",
    ")\n",
    "unetB = UNet(in_channels=1, out_channels=1, depth=7, final_activation=None)\n",
    "unetC = torch.nn.Sequential(\n",
    "    UNet(in_channels=1, out_channels=1, depth=4, final_activation=torch.nn.ReLU()),\n",
    "    torch.nn.Sigmoid(),\n",
    ")\n",
    "unetD = torch.nn.Sequential(\n",
    "    UNet(in_channels=1, out_channels=1, depth=1, final_activation=None),\n",
    "    torch.nn.Sigmoid(),\n",
    ")\n"
   ]
  },
  {
   "cell_type": "code",
   "execution_count": null,
   "metadata": {},
   "outputs": [],
   "source": [
    "# unetA: The correct unet.\n",
    "# unetB: too deep. I expect memory issues trying to fit data through this model, also may not have large enough pictures to use the extra context\n",
    "# unetC: A classic mistake putting a Sigmoid after a Relu activation. You will never predict anything < 0.5\n",
    "# unetD: barely any depth to this unet. It should train and give you what you want, I just wouldn't expect good performance\n",
    "best_unet = unetA"
   ]
  },
  {
   "cell_type": "markdown",
   "metadata": {
    "colab_type": "text",
    "id": "_MTjpyXIv8bm"
   },
   "source": [
    "## 4) Loss and distance metrics\n",
    "\n",
    "The next step to do would be writing a loss function - a metric that will tell us how close we are to the desired output. This metric should be differentiable, since this is the value to be backpropagated. The are [multiple losses](https://lars76.github.io/2018/09/27/loss-functions-for-segmentation.html) we could use for the segmentation task.\n",
    "\n",
    "Take a moment to think which one is better to use. If you are not sure, don't forget that you can always google! Before you start implementing the loss yourself, take a look at the [losses](https://pytorch.org/docs/stable/nn.html#loss-functions) already implemented in PyTorch. You can also look for implementations on GitHub."
   ]
  },
  {
   "cell_type": "markdown",
   "metadata": {},
   "source": [
    "\n",
    "__Task 4.1__: implement your loss (or take one from pytorch):"
   ]
  },
  {
   "cell_type": "code",
   "execution_count": null,
   "metadata": {
    "colab": {},
    "colab_type": "code",
    "id": "WaSLoe-IvhI8"
   },
   "outputs": [],
   "source": [
    "# implement your loss here or initialize the one of your choice from pytorch\n",
    "loss_function = nn.BCELoss()\n",
    "\n",
    "# loss function sanity check:\n",
    "target = torch.tensor([0.0, 1.0])\n",
    "good_prediction = torch.tensor([0.01, 0.99])\n",
    "bad_prediction = torch.tensor([0.4, 0.6])\n",
    "wrong_prediction = torch.tensor([0.9, 0.1])\n",
    "\n",
    "# Can your loss function handle predictions outside of (0, 1)?\n",
    "# Some loss functions will be perfectly happy with this which may\n",
    "# make them easier to work with, but predictions outside the expected\n",
    "# range will not work well with our soon to be discussed evaluation metric.\n",
    "out_of_bounds_prediction = torch.tensor([-0.1, 1.1])\n",
    "\n",
    "good_loss = loss_function(good_prediction, target)\n",
    "bad_loss = loss_function(bad_prediction, target)\n",
    "wrong_loss = loss_function(wrong_prediction, target)\n",
    "\n",
    "assert good_loss < bad_loss\n",
    "assert bad_loss < wrong_loss\n"
   ]
  },
  {
   "cell_type": "markdown",
   "metadata": {
    "colab_type": "text",
    "id": "FRujJEY1xg2q"
   },
   "source": [
    "We will use the [Dice Coefficeint](https://en.wikipedia.org/wiki/S%C3%B8rensen%E2%80%93Dice_coefficient) to evaluate the network predictions.\n",
    "We can use it for validation if we interpret set $a$ as predictions and $b$ as labels. It is often used to evaluate segmentations with sparse foreground, because the denominator normalizes by the number of foreground pixels.\n",
    "The Dice Coefficient is closely related to Jaccard Index / Intersection over Union."
   ]
  },
  {
   "cell_type": "code",
   "execution_count": null,
   "metadata": {
    "colab": {},
    "colab_type": "code",
    "id": "k4BbxNxVxVuE"
   },
   "outputs": [],
   "source": [
    "# sorensen dice coefficient implemented in torch\n",
    "# the coefficient takes values in [0, 1], where 0 is\n",
    "# the worst score, 1 is the best score\n",
    "class DiceCoefficient(nn.Module):\n",
    "    def __init__(self, eps=1e-6):\n",
    "        super().__init__()\n",
    "        self.eps = eps\n",
    "\n",
    "    # the dice coefficient of two sets represented as vectors a, b ca be\n",
    "    # computed as (2 *|a b| / (a^2 + b^2))\n",
    "    def forward(self, prediction, target):\n",
    "        intersection = (prediction * target).sum()\n",
    "        denominator = (prediction * prediction).sum() + (target * target).sum()\n",
    "        return 2 * intersection / denominator.clamp(min=self.eps)\n"
   ]
  },
  {
   "cell_type": "markdown",
   "metadata": {},
   "source": [
    "## Checkpoint 2\n",
    "\n",
    "This is a good place to stop for a moment. If you have extra time look into some extra loss functions or try to implement your own if you haven't yet. You could also explore alternatives for evaluation metrics since there are alternatives that you could look into."
   ]
  },
  {
   "cell_type": "markdown",
   "metadata": {
    "colab_type": "text",
    "id": "Bfq6uCE3yfjo"
   },
   "source": [
    "## 5) Training\n",
    "\n",
    "Let's start with writing training and validation functions."
   ]
  },
  {
   "cell_type": "markdown",
   "metadata": {},
   "source": [
    "__Task 5.1__: fix in all the TODOs to make the train function work. If confused, you can use this [PyTorch tutorial](https://pytorch.org/tutorials/beginner/basics/optimization_tutorial.html) as a template "
   ]
  },
  {
   "cell_type": "code",
   "execution_count": null,
   "metadata": {
    "colab": {},
    "colab_type": "code",
    "id": "3vHmBksOzpl9"
   },
   "outputs": [],
   "source": [
    "# apply training for one epoch\n",
    "def train(\n",
    "    model,\n",
    "    loader,\n",
    "    optimizer,\n",
    "    loss_function,\n",
    "    epoch,\n",
    "    log_interval=100,\n",
    "    log_image_interval=20,\n",
    "    tb_logger=None,\n",
    "    device=None,\n",
    "    early_stop=False,\n",
    "):\n",
    "    if device is None:\n",
    "        # You can pass in a device or we will default to using\n",
    "        # the gpu. Feel free to try training on the cpu to see\n",
    "        # what sort of performance difference there is\n",
    "        if torch.cuda.is_available():\n",
    "            device = torch.device(\"cuda\")\n",
    "        else:\n",
    "            device = torch.device(\"cpu\")\n",
    "\n",
    "    # set the model to train mode\n",
    "    model.train()\n",
    "\n",
    "    # move model to device\n",
    "    model = model.to(device)\n",
    "\n",
    "    # iterate over the batches of this epoch\n",
    "    for batch_id, (x, y) in enumerate(loader):\n",
    "        # move input and target to the active device (either cpu or gpu)\n",
    "        x, y = x.to(device), y.to(device)\n",
    "\n",
    "        # zero the gradients for this iteration\n",
    "        optimizer.zero_grad()\n",
    "\n",
    "        # apply model and calculate loss\n",
    "        prediction = model(x)\n",
    "        loss = loss_function(prediction, y)\n",
    "\n",
    "        # backpropagate the loss and adjust the parameters\n",
    "        loss.backward()\n",
    "        optimizer.step()\n",
    "\n",
    "        # log to console\n",
    "        if batch_id % log_interval == 0:\n",
    "            print(\n",
    "                \"Train Epoch: {} [{}/{} ({:.0f}%)]\\tLoss: {:.6f}\".format(\n",
    "                    epoch,\n",
    "                    batch_id * len(x),\n",
    "                    len(loader.dataset),\n",
    "                    100.0 * batch_id / len(loader),\n",
    "                    loss.item(),\n",
    "                )\n",
    "            )\n",
    "\n",
    "        # log to tensorboard\n",
    "        if tb_logger is not None:\n",
    "            step = epoch * len(loader) + batch_id\n",
    "            tb_logger.add_scalar(\n",
    "                tag=\"train_loss\", scalar_value=loss.item(), global_step=step\n",
    "            )\n",
    "            # check if we log images in this iteration\n",
    "            if step % log_image_interval == 0:\n",
    "                tb_logger.add_images(\n",
    "                    tag=\"input\", img_tensor=x.to(\"cpu\"), global_step=step\n",
    "                )\n",
    "                tb_logger.add_images(\n",
    "                    tag=\"target\", img_tensor=y.to(\"cpu\"), global_step=step\n",
    "                )\n",
    "                tb_logger.add_images(\n",
    "                    tag=\"prediction\",\n",
    "                    img_tensor=prediction.to(\"cpu\").detach(),\n",
    "                    global_step=step,\n",
    "                )\n",
    "\n",
    "        if early_stop and batch_id > 5:\n",
    "            print(\"Stopping test early!\")\n",
    "            break\n",
    "\n",
    "\n",
    "# Quick sanity check for your train function to make sure no errors are thrown:\n",
    "# Good place to test unetA, unetB, unetC, unetD to see if you can eliminate some\n",
    "test_net = UNet(1, 1, depth=1, final_activation=nn.Sigmoid())\n",
    "\n",
    "train(\n",
    "    test_net,\n",
    "    train_loader,\n",
    "    optimizer=torch.optim.Adam(test_net.parameters()),\n",
    "    loss_function=torch.nn.MSELoss,\n",
    "    epoch=0,\n",
    "    log_interval=1,\n",
    "    early_stop=True,\n",
    ")\n"
   ]
  },
  {
   "cell_type": "markdown",
   "metadata": {},
   "source": [
    "__Task 5.2__: fix in all the TODOs to make the validate function work. If confused, you can use this [PyTorch tutorial](https://pytorch.org/tutorials/beginner/basics/optimization_tutorial.html) as a template"
   ]
  },
  {
   "cell_type": "code",
   "execution_count": null,
   "metadata": {
    "colab": {},
    "colab_type": "code",
    "id": "cdCGd3-N3gpI"
   },
   "outputs": [],
   "source": [
    "# run validation after training epoch\n",
    "def validate(\n",
    "    model,\n",
    "    loader,\n",
    "    loss_function,\n",
    "    metric,\n",
    "    step=None,\n",
    "    tb_logger=None,\n",
    "    device=None,\n",
    "):\n",
    "    if device is None:\n",
    "        # You can pass in a device or we will default to using\n",
    "        # the gpu. Feel free to try training on the cpu to see\n",
    "        # what sort of performance difference there is\n",
    "        if torch.cuda.is_available():\n",
    "            device = torch.device(\"cuda\")\n",
    "        else:\n",
    "            device = torch.device(\"cpu\")\n",
    "\n",
    "    # set model to eval mode\n",
    "    model.eval()\n",
    "    model.to(device)\n",
    "    \n",
    "    # running loss and metric values\n",
    "    val_loss = 0\n",
    "    val_metric = 0\n",
    "\n",
    "    # disable gradients during validation\n",
    "    with torch.no_grad():\n",
    "\n",
    "        # iterate over validation loader and update loss and metric values\n",
    "        for x, y in loader:\n",
    "            x, y = x.to(device), y.to(device)\n",
    "            prediction = model(x)\n",
    "            val_loss += loss_function(prediction, y).item()\n",
    "            val_metric += metric(prediction, y).item()\n",
    "\n",
    "    # normalize loss and metric\n",
    "    val_loss /= len(loader)\n",
    "    val_metric /= len(loader)\n",
    "\n",
    "    if tb_logger is not None:\n",
    "        assert (\n",
    "            step is not None\n",
    "        ), \"Need to know the current step to log validation results\"\n",
    "        tb_logger.add_scalar(tag=\"val_loss\", scalar_value=val_loss, global_step=step)\n",
    "        tb_logger.add_scalar(\n",
    "            tag=\"val_metric\", scalar_value=val_metric, global_step=step\n",
    "        )\n",
    "        # we always log the last validation images\n",
    "        tb_logger.add_images(tag=\"val_input\", img_tensor=x.to(\"cpu\"), global_step=step)\n",
    "        tb_logger.add_images(tag=\"val_target\", img_tensor=y.to(\"cpu\"), global_step=step)\n",
    "        tb_logger.add_images(\n",
    "            tag=\"val_prediction\", img_tensor=prediction.to(\"cpu\"), global_step=step\n",
    "        )\n",
    "\n",
    "    print(\n",
    "        \"\\nValidate: Average loss: {:.4f}, Average Metric: {:.4f}\\n\".format(\n",
    "            val_loss, val_metric\n",
    "        )\n",
    "    )\n",
    "\n",
    "\n",
    "# Quick sanity check for your train function to make sure no errors are thrown:\n",
    "test_net = UNet(1, 1, depth=1, final_activation=None)\n",
    "\n",
    "# build the dice coefficient metric\n",
    "\n",
    "validate(\n",
    "    test_net,\n",
    "    train_loader,\n",
    "    loss_function=torch.nn.MSELoss(),\n",
    "    metric=DiceCoefficient(),\n",
    "    step=0\n",
    ")"
   ]
  },
  {
   "cell_type": "markdown",
   "metadata": {
    "colab_type": "text",
    "id": "MMARc1MBzsCT"
   },
   "source": [
    "\n",
    "We want to use GPU to train faster. Make sure GPU is available"
   ]
  },
  {
   "cell_type": "code",
   "execution_count": null,
   "metadata": {},
   "outputs": [],
   "source": [
    "assert torch.cuda.is_available()"
   ]
  },
  {
   "cell_type": "code",
   "execution_count": null,
   "metadata": {
    "colab": {},
    "colab_type": "code",
    "id": "6Tai5zj8U6kg"
   },
   "outputs": [],
   "source": [
    "# start a tensorboard writer\n",
    "logger = SummaryWriter('runs/Unet')\n",
    "%tensorboard --logdir runs"
   ]
  },
  {
   "cell_type": "code",
   "execution_count": null,
   "metadata": {
    "colab": {},
    "colab_type": "code",
    "id": "1RUwWEAFVHLz"
   },
   "outputs": [],
   "source": [
    "# Use the unet you expect to work the best!\n",
    "net = best_unet\n",
    "\n",
    "# use adam optimizer\n",
    "optimizer = torch.optim.Adam(net.parameters())\n",
    "\n",
    "# build the dice coefficient metric\n",
    "metric = DiceCoefficient()\n",
    "\n",
    "# train for 25 epochs\n",
    "# during the training you can inspect the\n",
    "# predictions in the tensorboard\n",
    "n_epochs = 25\n",
    "for epoch in range(n_epochs):\n",
    "    # train\n",
    "    train(\n",
    "        net,\n",
    "        train_loader,\n",
    "        optimizer=optimizer,\n",
    "        loss_function=loss_function,\n",
    "        epoch=epoch,\n",
    "        log_interval=5,\n",
    "        tb_logger=logger,\n",
    "    )\n",
    "    step = epoch * len(train_loader.dataset)\n",
    "    # validate\n",
    "    validate(net, val_loader, loss_function, metric, step=step, tb_logger=logger)\n"
   ]
  },
  {
   "cell_type": "markdown",
   "metadata": {},
   "source": [
    "Your validation metric was probably around 88% by the end of the training. That sounds good enough, but an equally important thing to check is: \n",
    "Open the Images tab in your Tensorboard and compare predictions to targets. Do your predictions look reasonable? Are there any obvious failure cases? \n",
    "If nothing is clearly wrong, let's see if we can still improve the model performance by changing the model or the loss \n"
   ]
  },
  {
   "cell_type": "markdown",
   "metadata": {},
   "source": [
    "## Checkpoint 3\n",
    "\n",
    "This is the end of the guided exercise. We will go over all of the code up until this point shortly. While you wait you are encouraged to try alternative loss functions, evaluation metrics, augmentations, and networks.\n",
    "After this come additional exercises if you are interested and have the time."
   ]
  },
  {
   "cell_type": "markdown",
   "metadata": {
    "colab_type": "text",
    "id": "Jq9kGHGgpeNT"
   },
   "source": [
    "## Additional Exercises \n",
    "\n",
    "1. Implement and evaluate the following architecture variants of the U-Net:\n",
    "    * use [GroupNorm](https://pytorch.org/docs/stable/nn.html#torch.nn.GroupNorm) to normalize convolutional group inputs\n",
    "    * add one more layer to the Unet model (currently it has 4)\n",
    "\n",
    "2. Use the Dice coefficient as loss function. Before we only used it for validation, but it is differentiable and can thus also be used as loss. Compare to the results from exercise 2. \n",
    "Hint: The optimizer we use finds minima of the loss, but the minimal value for the Dice coefficient corresponds to a bad segmentation. How do we need to change the Dice coefficient to use it as loss nonetheless?\n",
    "\n",
    "3. Compare the results of these trainings to the first one. If any of the modifications you've implemented show better results, combine them (e.g. add both GroupNorm and one more layer) and run trainings again.\n",
    "What is the best result you could get?"
   ]
  },
  {
   "cell_type": "markdown",
   "metadata": {},
   "source": [
    "## Group norm"
   ]
  },
  {
   "cell_type": "code",
   "execution_count": null,
   "metadata": {},
   "outputs": [],
   "source": [
    "class UNetGN(nn.Module):\n",
    "    \"\"\"UNet implementation\n",
    "    Arguments:\n",
    "      in_channels: number of input channels\n",
    "      out_channels: number of output channels\n",
    "      final_activation: activation applied to the network output\n",
    "    \"\"\"\n",
    "\n",
    "    # _conv_block and _upsampler are just helper functions to\n",
    "    # construct the model.\n",
    "    # encapsulating them like so also makes it easy to re-use\n",
    "    # the model implementation with different architecture elements\n",
    "\n",
    "    # Convolutional block for single layer of the decoder / encoder\n",
    "    # we apply two 2d convolutions with relu activation and group norm\n",
    "    def _conv_block(self, in_channels, out_channels):\n",
    "        return nn.Sequential(\n",
    "            nn.Conv2d(in_channels, out_channels, kernel_size=3, padding=1),\n",
    "            nn.ReLU(),\n",
    "            nn.GroupNorm(8, out_channels),\n",
    "            nn.Conv2d(out_channels, out_channels, kernel_size=3, padding=1),\n",
    "            nn.ReLU(),\n",
    "            nn.GroupNorm(8, out_channels),\n",
    "        )\n",
    "\n",
    "    # upsampling via transposed 2d convolutions\n",
    "    def _upsampler(self, in_channels, out_channels):\n",
    "        return nn.ConvTranspose2d(in_channels, out_channels, kernel_size=2, stride=2)\n",
    "\n",
    "    def __init__(self, in_channels=1, out_channels=1, final_activation=None):\n",
    "        super().__init__()\n",
    "\n",
    "        # the depth (= number of encoder / decoder levels) is\n",
    "        # hard-coded to 4\n",
    "        self.depth = 4\n",
    "\n",
    "        # the final activation must either be None or a Module\n",
    "        if final_activation is not None:\n",
    "            assert isinstance(\n",
    "                final_activation, nn.Module\n",
    "            ), \"Activation must be torch module\"\n",
    "\n",
    "        # all lists of conv layers (or other nn.Modules with parameters) must be wraped\n",
    "        # itnto a nn.ModuleList\n",
    "\n",
    "        # modules of the encoder path\n",
    "        self.encoder = nn.ModuleList(\n",
    "            [\n",
    "                self._conv_block(in_channels, 16),\n",
    "                self._conv_block(16, 32),\n",
    "                self._conv_block(32, 64),\n",
    "                self._conv_block(64, 128),\n",
    "            ]\n",
    "        )\n",
    "        # the base convolution block\n",
    "        self.base = self._conv_block(128, 256)\n",
    "        # modules of the decoder path\n",
    "        self.decoder = nn.ModuleList(\n",
    "            [\n",
    "                self._conv_block(256, 128),\n",
    "                self._conv_block(128, 64),\n",
    "                self._conv_block(64, 32),\n",
    "                self._conv_block(32, 16),\n",
    "            ]\n",
    "        )\n",
    "\n",
    "        # the pooling layers; we use 2x2 MaxPooling\n",
    "        self.poolers = nn.ModuleList([nn.MaxPool2d(2) for _ in range(self.depth)])\n",
    "        # the upsampling layers\n",
    "        self.upsamplers = nn.ModuleList(\n",
    "            [\n",
    "                self._upsampler(256, 128),\n",
    "                self._upsampler(128, 64),\n",
    "                self._upsampler(64, 32),\n",
    "                self._upsampler(32, 16),\n",
    "            ]\n",
    "        )\n",
    "        # output conv and activation\n",
    "        # the output conv is not followed by a non-linearity, because we apply\n",
    "        # activation afterwards\n",
    "        self.out_conv = nn.Conv2d(16, out_channels, 1)\n",
    "        self.activation = final_activation\n",
    "\n",
    "    def forward(self, input):\n",
    "        x = input\n",
    "        # apply encoder path\n",
    "        encoder_out = []\n",
    "        for level in range(self.depth):\n",
    "            x = self.encoder[level](x)\n",
    "            encoder_out.append(x)\n",
    "            x = self.poolers[level](x)\n",
    "\n",
    "        # apply base\n",
    "        x = self.base(x)\n",
    "\n",
    "        # apply decoder path\n",
    "        encoder_out = encoder_out[::-1]\n",
    "        for level in range(self.depth):\n",
    "            x = self.upsamplers[level](x)\n",
    "            x = self.decoder[level](torch.cat((x, encoder_out[level]), dim=1))\n",
    "\n",
    "        # apply output conv and activation (if given)\n",
    "        x = self.out_conv(x)\n",
    "        if self.activation is not None:\n",
    "            x = self.activation(x)\n",
    "        return x\n"
   ]
  },
  {
   "cell_type": "code",
   "execution_count": null,
   "metadata": {},
   "outputs": [],
   "source": [
    "net = UNetGN(1, 1, final_activation=nn.Sigmoid())\n",
    "\n",
    "optimizer = torch.optim.Adam(net.parameters())\n",
    "\n",
    "metric = DiceCoefficient()\n",
    "\n",
    "logger = SummaryWriter(\"runs/UNetGN\")\n",
    "\n",
    "\n",
    "# train for 40 epochs\n",
    "# during the training you can inspect the\n",
    "# predictions in the tensorboard\n",
    "n_epochs = 40\n",
    "for epoch in range(n_epochs):\n",
    "    train(\n",
    "        net,\n",
    "        train_loader,\n",
    "        optimizer=optimizer,\n",
    "        loss_function=loss_function,\n",
    "        epoch=epoch,\n",
    "        log_interval=5,\n",
    "        tb_logger=logger,\n",
    "    )\n",
    "    step = epoch * len(train_loader.dataset)\n",
    "    validate(net, val_loader, loss_function, metric, step=step, tb_logger=logger)\n"
   ]
  },
  {
   "cell_type": "markdown",
   "metadata": {},
   "source": [
    "## More layers"
   ]
  },
  {
   "cell_type": "code",
   "execution_count": null,
   "metadata": {},
   "outputs": [],
   "source": [
    "class UNet5layers(nn.Module):\n",
    "    \"\"\"UNet implementation\n",
    "    Arguments:\n",
    "      in_channels: number of input channels\n",
    "      out_channels: number of output channels\n",
    "      final_activation: activation applied to the network output\n",
    "    \"\"\"\n",
    "\n",
    "    # _conv_block and _upsampler are just helper functions to\n",
    "    # construct the model.\n",
    "    # encapsulating them like so also makes it easy to re-use\n",
    "    # the model implementation with different architecture elements\n",
    "\n",
    "    # Convolutional block for single layer of the decoder / encoder\n",
    "    # we apply to 2d convolutions with relu activation\n",
    "    def _conv_block(self, in_channels, out_channels):\n",
    "        return nn.Sequential(\n",
    "            nn.Conv2d(in_channels, out_channels, kernel_size=3, padding=1),\n",
    "            nn.ReLU(),\n",
    "            nn.Conv2d(out_channels, out_channels, kernel_size=3, padding=1),\n",
    "            nn.ReLU(),\n",
    "        )\n",
    "\n",
    "    # upsampling via transposed 2d convolutions\n",
    "    def _upsampler(self, in_channels, out_channels):\n",
    "        return nn.ConvTranspose2d(in_channels, out_channels, kernel_size=2, stride=2)\n",
    "\n",
    "    def __init__(self, in_channels=1, out_channels=1, final_activation=None):\n",
    "        super().__init__()\n",
    "\n",
    "        self.depth = 5\n",
    "\n",
    "        # the final activation must either be None or a Module\n",
    "        if final_activation is not None:\n",
    "            assert isinstance(\n",
    "                final_activation, nn.Module\n",
    "            ), \"Activation must be torch module\"\n",
    "\n",
    "        # all lists of conv layers (or other nn.Modules with parameters) must be wraped\n",
    "        # itnto a nn.ModuleList\n",
    "\n",
    "        # modules of the encoder path\n",
    "        self.encoder = nn.ModuleList(\n",
    "            [\n",
    "                self._conv_block(in_channels, 16),\n",
    "                self._conv_block(16, 32),\n",
    "                self._conv_block(32, 64),\n",
    "                self._conv_block(64, 128),\n",
    "                self._conv_block(128, 256),\n",
    "            ]\n",
    "        )\n",
    "        # the base convolution block\n",
    "        self.base = self._conv_block(256, 512)\n",
    "        # modules of the decoder path\n",
    "        self.decoder = nn.ModuleList(\n",
    "            [\n",
    "                self._conv_block(512, 256),\n",
    "                self._conv_block(256, 128),\n",
    "                self._conv_block(128, 64),\n",
    "                self._conv_block(64, 32),\n",
    "                self._conv_block(32, 16),\n",
    "            ]\n",
    "        )\n",
    "\n",
    "        # the pooling layers; we use 2x2 MaxPooling\n",
    "        self.poolers = nn.ModuleList([nn.MaxPool2d(2) for _ in range(self.depth)])\n",
    "        # the upsampling layers\n",
    "        self.upsamplers = nn.ModuleList(\n",
    "            [\n",
    "                self._upsampler(512, 256),\n",
    "                self._upsampler(256, 128),\n",
    "                self._upsampler(128, 64),\n",
    "                self._upsampler(64, 32),\n",
    "                self._upsampler(32, 16),\n",
    "            ]\n",
    "        )\n",
    "        # output conv and activation\n",
    "        # the output conv is not followed by a non-linearity, because we apply\n",
    "        # activation afterwards\n",
    "        self.out_conv = nn.Conv2d(16, out_channels, 1)\n",
    "        self.activation = final_activation\n",
    "\n",
    "    def forward(self, input):\n",
    "        x = input\n",
    "        # apply encoder path\n",
    "        encoder_out = []\n",
    "        for level in range(self.depth):\n",
    "            x = self.encoder[level](x)\n",
    "            encoder_out.append(x)\n",
    "            x = self.poolers[level](x)\n",
    "\n",
    "        # apply base\n",
    "        x = self.base(x)\n",
    "\n",
    "        # apply decoder path\n",
    "        encoder_out = encoder_out[::-1]\n",
    "        for level in range(self.depth):\n",
    "            x = self.upsamplers[level](x)\n",
    "            x = self.decoder[level](torch.cat((x, encoder_out[level]), dim=1))\n",
    "\n",
    "        # apply output conv and activation (if given)\n",
    "        x = self.out_conv(x)\n",
    "        if self.activation is not None:\n",
    "            x = self.activation(x)\n",
    "        return x\n"
   ]
  },
  {
   "cell_type": "code",
   "execution_count": null,
   "metadata": {},
   "outputs": [],
   "source": [
    "net = UNet5layers(1, 1, final_activation=nn.Sigmoid())\n",
    "net = net.to(device)\n",
    "\n",
    "optimizer = torch.optim.Adam(net.parameters())\n",
    "\n",
    "metric = DiceCoefficient()\n",
    "metric = metric.to(device)\n",
    "\n",
    "logger = SummaryWriter(\"runs/UNet5layers\")\n",
    "\n",
    "\n",
    "# train for 25 epochs\n",
    "# during the training you can inspect the\n",
    "# predictions in the tensorboard\n",
    "n_epochs = 25\n",
    "for epoch in range(n_epochs):\n",
    "    train(\n",
    "        net,\n",
    "        train_loader,\n",
    "        optimizer=optimizer,\n",
    "        loss_function=bce_loss,\n",
    "        epoch=epoch,\n",
    "        log_interval=5,\n",
    "        tb_logger=logger,\n",
    "    )\n",
    "    step = epoch * len(train_loader.dataset)\n",
    "    validate(net, val_loader, bce_loss, metric, step=step, tb_logger=logger)\n"
   ]
  },
  {
   "cell_type": "markdown",
   "metadata": {},
   "source": [
    "## Dice loss"
   ]
  },
  {
   "cell_type": "code",
   "execution_count": null,
   "metadata": {},
   "outputs": [],
   "source": [
    "class RevDice(nn.Module):\n",
    "    def __init__(self, eps=1e-6):\n",
    "        super().__init__()\n",
    "        self.eps = eps\n",
    "\n",
    "    # the dice coefficient of two sets represented as vectors a, b ca be\n",
    "    # computed as (2 *|a b| / (a^2 + b^2))\n",
    "    def forward(self, prediction, target):\n",
    "        intersection = (prediction * target).sum()\n",
    "        denominator = (prediction * prediction).sum() + (target * target).sum()\n",
    "        return 1 - (2 * intersection / denominator.clamp(min=self.eps))\n"
   ]
  },
  {
   "cell_type": "code",
   "execution_count": null,
   "metadata": {},
   "outputs": [],
   "source": [
    "dice_loss = RevDice()\n",
    "\n",
    "net = UNet(1, 1, final_activation=nn.Sigmoid())\n",
    "net = net.to(device)\n",
    "\n",
    "optimizer = torch.optim.Adam(net.parameters())\n",
    "\n",
    "metric = DiceCoefficient()\n",
    "metric = metric.to(device)\n",
    "\n",
    "logger = SummaryWriter(\"runs/UNet_diceloss\")\n",
    "\n",
    "\n",
    "# train for 40 epochs\n",
    "# during the training you can inspect the\n",
    "# predictions in the tensorboard\n",
    "n_epochs = 40\n",
    "for epoch in range(n_epochs):\n",
    "    train(\n",
    "        net,\n",
    "        train_loader,\n",
    "        optimizer=optimizer,\n",
    "        loss_function=dice_loss,\n",
    "        epoch=epoch,\n",
    "        log_interval=5,\n",
    "        tb_logger=logger,\n",
    "    )\n",
    "    step = epoch * len(train_loader.dataset)\n",
    "    validate(net, val_loader, dice_loss, metric, step=step, tb_logger=logger)\n"
   ]
  },
  {
   "cell_type": "markdown",
   "metadata": {},
   "source": [
    "## Group Norm + Dice"
   ]
  },
  {
   "cell_type": "code",
   "execution_count": null,
   "metadata": {},
   "outputs": [],
   "source": [
    "net = UNetGN(1, 1, final_activation=nn.Sigmoid())\n",
    "net = net.to(device)\n",
    "\n",
    "optimizer = torch.optim.Adam(net.parameters())\n",
    "\n",
    "metric = DiceCoefficient()\n",
    "metric = metric.to(device)\n",
    "\n",
    "logger = SummaryWriter(\"runs/UNetGN_diceloss\")\n",
    "\n",
    "\n",
    "# train for 25 epochs\n",
    "# during the training you can inspect the\n",
    "# predictions in the tensorboard\n",
    "n_epochs = 40\n",
    "for epoch in range(n_epochs):\n",
    "    train(\n",
    "        net,\n",
    "        train_loader,\n",
    "        optimizer=optimizer,\n",
    "        loss_function=dice_loss,\n",
    "        epoch=epoch,\n",
    "        log_interval=5,\n",
    "        tb_logger=logger,\n",
    "    )\n",
    "    step = epoch * len(train_loader.dataset)\n",
    "    validate(net, val_loader, dice_loss, metric, step=step, tb_logger=logger)\n"
   ]
  },
  {
   "cell_type": "markdown",
   "metadata": {},
   "source": [
    "## Group Norm + Dice + Unet 5 Layers"
   ]
  },
  {
   "cell_type": "code",
   "execution_count": null,
   "metadata": {},
   "outputs": [],
   "source": [
    "class UNet5layersGN(nn.Module):\n",
    "    \"\"\"UNet implementation\n",
    "    Arguments:\n",
    "      in_channels: number of input channels\n",
    "      out_channels: number of output channels\n",
    "      final_activation: activation applied to the network output\n",
    "    \"\"\"\n",
    "\n",
    "    # _conv_block and _upsampler are just helper functions to\n",
    "    # construct the model.\n",
    "    # encapsulating them like so also makes it easy to re-use\n",
    "    # the model implementation with different architecture elements\n",
    "\n",
    "    # Convolutional block for single layer of the decoder / encoder\n",
    "    # we apply to 2d convolutions with relu activation\n",
    "    def _conv_block(self, in_channels, out_channels):\n",
    "        return nn.Sequential(\n",
    "            nn.Conv2d(in_channels, out_channels, kernel_size=3, padding=1),\n",
    "            nn.ReLU(),\n",
    "            nn.GroupNorm(8, out_channels),\n",
    "            nn.Conv2d(out_channels, out_channels, kernel_size=3, padding=1),\n",
    "            nn.ReLU(),\n",
    "            nn.GroupNorm(8, out_channels),\n",
    "        )\n",
    "\n",
    "    # upsampling via transposed 2d convolutions\n",
    "    def _upsampler(self, in_channels, out_channels):\n",
    "        return nn.ConvTranspose2d(in_channels, out_channels, kernel_size=2, stride=2)\n",
    "\n",
    "    def __init__(self, in_channels=1, out_channels=1, final_activation=None):\n",
    "        super().__init__()\n",
    "\n",
    "        self.depth = 5\n",
    "\n",
    "        # the final activation must either be None or a Module\n",
    "        if final_activation is not None:\n",
    "            assert isinstance(\n",
    "                final_activation, nn.Module\n",
    "            ), \"Activation must be torch module\"\n",
    "\n",
    "        # all lists of conv layers (or other nn.Modules with parameters) must be wraped\n",
    "        # itnto a nn.ModuleList\n",
    "\n",
    "        # modules of the encoder path\n",
    "        self.encoder = nn.ModuleList(\n",
    "            [\n",
    "                self._conv_block(in_channels, 16),\n",
    "                self._conv_block(16, 32),\n",
    "                self._conv_block(32, 64),\n",
    "                self._conv_block(64, 128),\n",
    "                self._conv_block(128, 256),\n",
    "            ]\n",
    "        )\n",
    "        # the base convolution block\n",
    "        self.base = self._conv_block(256, 512)\n",
    "        # modules of the decoder path\n",
    "        self.decoder = nn.ModuleList(\n",
    "            [\n",
    "                self._conv_block(512, 256),\n",
    "                self._conv_block(256, 128),\n",
    "                self._conv_block(128, 64),\n",
    "                self._conv_block(64, 32),\n",
    "                self._conv_block(32, 16),\n",
    "            ]\n",
    "        )\n",
    "\n",
    "        # the pooling layers; we use 2x2 MaxPooling\n",
    "        self.poolers = nn.ModuleList([nn.MaxPool2d(2) for _ in range(self.depth)])\n",
    "        # the upsampling layers\n",
    "        self.upsamplers = nn.ModuleList(\n",
    "            [\n",
    "                self._upsampler(512, 256),\n",
    "                self._upsampler(256, 128),\n",
    "                self._upsampler(128, 64),\n",
    "                self._upsampler(64, 32),\n",
    "                self._upsampler(32, 16),\n",
    "            ]\n",
    "        )\n",
    "        # output conv and activation\n",
    "        # the output conv is not followed by a non-linearity, because we apply\n",
    "        # activation afterwards\n",
    "        self.out_conv = nn.Conv2d(16, out_channels, 1)\n",
    "        self.activation = final_activation\n",
    "\n",
    "    def forward(self, input):\n",
    "        x = input\n",
    "        # apply encoder path\n",
    "        encoder_out = []\n",
    "        for level in range(self.depth):\n",
    "            x = self.encoder[level](x)\n",
    "            encoder_out.append(x)\n",
    "            x = self.poolers[level](x)\n",
    "\n",
    "        # apply base\n",
    "        x = self.base(x)\n",
    "\n",
    "        # apply decoder path\n",
    "        encoder_out = encoder_out[::-1]\n",
    "        for level in range(self.depth):\n",
    "            x = self.upsamplers[level](x)\n",
    "            x = self.decoder[level](torch.cat((x, encoder_out[level]), dim=1))\n",
    "\n",
    "        # apply output conv and activation (if given)\n",
    "        x = self.out_conv(x)\n",
    "        if self.activation is not None:\n",
    "            x = self.activation(x)\n",
    "        return x\n"
   ]
  },
  {
   "cell_type": "code",
   "execution_count": null,
   "metadata": {},
   "outputs": [],
   "source": [
    "net = UNet5layersGN(1, 1, final_activation=nn.Sigmoid())\n",
    "net = net.to(device)\n",
    "\n",
    "optimizer = torch.optim.Adam(net.parameters())\n",
    "\n",
    "metric = DiceCoefficient()\n",
    "metric = metric.to(device)\n",
    "\n",
    "logger = SummaryWriter(\"runs/UNet5layersGN_diceloss\")\n",
    "\n",
    "\n",
    "# train for 25 epochs\n",
    "# during the training you can inspect the\n",
    "# predictions in the tensorboard\n",
    "n_epochs = 40\n",
    "for epoch in range(n_epochs):\n",
    "    train(\n",
    "        net,\n",
    "        train_loader,\n",
    "        optimizer=optimizer,\n",
    "        loss_function=dice_loss,\n",
    "        epoch=epoch,\n",
    "        log_interval=5,\n",
    "        tb_logger=logger,\n",
    "    )\n",
    "    step = epoch * len(train_loader.dataset)\n",
    "    validate(net, val_loader, dice_loss, metric, step=step, tb_logger=logger)\n"
   ]
  }
 ],
 "metadata": {
  "accelerator": "GPU",
  "colab": {
   "collapsed_sections": [],
   "include_colab_link": true,
   "name": "Untitled",
   "provenance": []
  },
  "kernelspec": {
   "display_name": "Python 3.9.13 ('05_image_segmentation')",
   "language": "python",
   "name": "python3"
  },
  "language_info": {
   "codemirror_mode": {
    "name": "ipython",
    "version": 3
   },
   "file_extension": ".py",
   "mimetype": "text/x-python",
   "name": "python",
   "nbconvert_exporter": "python",
   "pygments_lexer": "ipython3",
   "version": "3.9.13"
  },
  "vscode": {
   "interpreter": {
    "hash": "622b238de28a5f13bc129976de5f60977d2415a63cc7827a4a33c7ace2aedc4e"
   }
  }
 },
 "nbformat": 4,
 "nbformat_minor": 1
}
